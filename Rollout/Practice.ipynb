{
 "cells": [
  {
   "cell_type": "code",
   "execution_count": 43,
   "metadata": {
    "collapsed": true
   },
   "outputs": [],
   "source": [
    "from collections import defaultdict\n",
    "from collections import deque, OrderedDict\n",
    "from itertools import islice\n",
    "class BaseSampler(object):\n",
    "    def __init__(self,\n",
    "                 max_path_length,\n",
    "                 environment=None,\n",
    "                 policy=None,\n",
    "                 pool=None,\n",
    "                 store_last_n_paths=10):\n",
    "        self._max_path_length = max_path_length\n",
    "        self._store_last_n_paths = store_last_n_paths\n",
    "        self._last_n_paths = deque(maxlen=store_last_n_paths)\n",
    "\n",
    "        self.environment = environment\n",
    "        self.policy = policy\n",
    "        self.pool = pool\n",
    "\n",
    "    def initialize(self, environment, policy, pool):\n",
    "        self.environment = environment\n",
    "        self.policy = policy\n",
    "        self.pool = pool\n",
    "\n",
    "    def reset(self):\n",
    "        pass\n",
    "\n",
    "    def set_policy(self, policy):\n",
    "        self.policy = policy\n",
    "\n",
    "    def clear_last_n_paths(self):\n",
    "        self._last_n_paths.clear()\n",
    "\n",
    "    def get_last_n_paths(self, n=None):\n",
    "        if n is None:\n",
    "            n = self._store_last_n_paths\n",
    "\n",
    "        last_n_paths = tuple(islice(self._last_n_paths, None, n))\n",
    "\n",
    "        return last_n_paths\n",
    "\n",
    "    def sample(self):\n",
    "        raise NotImplementedError\n",
    "\n",
    "    def terminate(self):\n",
    "        self.environment.close()\n",
    "\n",
    "    def get_diagnostics(self):\n",
    "        diagnostics = OrderedDict({'pool-size': self.pool.size})\n",
    "        return diagnostics\n",
    "\n",
    "    def __getstate__(self):\n",
    "        state = {\n",
    "            key: value for key, value in self.__dict__.items()\n",
    "            if key not in (\n",
    "                'environment',\n",
    "                'policy',\n",
    "                'pool',\n",
    "                '_last_n_paths',\n",
    "                '_current_observation',\n",
    "                '_current_path',\n",
    "                '_is_first_step',\n",
    "            )\n",
    "        }\n",
    "\n",
    "        return state\n",
    "\n",
    "    def __setstate__(self, state):\n",
    "        self.__dict__.update(state)\n",
    "\n",
    "        self.environment = None\n",
    "        self.policy = None\n",
    "        self.pool = None\n",
    "        # TODO(hartikainen): Maybe try restoring these from the pool?\n",
    "        self._last_n_paths = deque(maxlen=self._store_last_n_paths)\n",
    "import numpy as np\n",
    "import tree\n",
    "from dataclasses import dataclass\n",
    "from typing import Union, Callable\n",
    "from numbers import Number\n",
    "import gzip\n",
    "import pickle\n",
    "\n",
    "import numpy as np\n",
    "import tensorflow as tf\n",
    "import tree\n",
    "import abc\n",
    "from gym import spaces\n",
    "import numpy as np"
   ]
  },
  {
   "cell_type": "code",
   "execution_count": 44,
   "outputs": [
    {
     "name": "stdout",
     "output_type": "stream",
     "text": [
      "[[1 2 3]\n",
      " [4 5 6]]\n"
     ]
    }
   ],
   "source": [
    "a = [[1,2,3],[4,5,6]]\n",
    "b=np.stack(a,axis=0)\n",
    "print(b)"
   ],
   "metadata": {
    "collapsed": false,
    "pycharm": {
     "name": "#%%\n"
    }
   }
  },
  {
   "cell_type": "code",
   "execution_count": 45,
   "outputs": [],
   "source": [
    "import os\n",
    "import time\n",
    "import grid2op\n",
    "import numpy as np\n",
    "import re\n",
    "from grid2op.Parameters import Parameters\n",
    "from grid2op.Reward import BaseReward, RedispReward, L2RPNSandBoxScore\n",
    "from multiprocessing import cpu_count,Pool\n",
    "import grid2op\n",
    "from grid2op.Reward import BaseReward, RedispReward, L2RPNSandBoxScore\n",
    "import numpy as np\n",
    "from grid2op.Parameters import Parameters\n",
    "\n",
    "\n",
    "other_rewards = {}\n",
    "other_rewards[\"tmp_score_codalab\"] = L2RPNSandBoxScore\n",
    "input_dir = '../input_data_local'\n",
    "parameters = Parameters()\n",
    "parameters.HARD_OVERFLOW_THRESHOLD = 3.0\n",
    "parameters.MAX_SUB_CHANGED = 6\n",
    "parameters.NB_TIMESTEP_OVERFLOW_ALLOWED = 2\n",
    "parameters.MAX_LINE_STATUS_CHANGED = 100\n",
    "\n",
    "env = grid2op.make(input_dir, param=parameters,\n",
    "                   reward_class=RedispReward,\n",
    "                   other_rewards=other_rewards)\n",
    "env.seed(0)\n",
    "env.set_id(0)\n",
    "obs = env.reset()"
   ],
   "metadata": {
    "collapsed": false,
    "pycharm": {
     "name": "#%%\n"
    }
   }
  },
  {
   "cell_type": "code",
   "execution_count": 46,
   "outputs": [],
   "source": [
    "action = env.action_space({})\n",
    "env.step(action)\n",
    "obs = env.get_obs()\n",
    "obs_handle = np.concatenate(([obs.rho.max()],obs.line_status))\n",
    "obs, reward, terminal, info = env.step(action)\n",
    "obs_next = np.concatenate(([obs.rho.max()],obs.line_status))"
   ],
   "metadata": {
    "collapsed": false,
    "pycharm": {
     "name": "#%%\n"
    }
   }
  },
  {
   "cell_type": "code",
   "execution_count": 47,
   "outputs": [],
   "source": [
    "def _process_sample(observation,\n",
    "                    action,\n",
    "                    reward,\n",
    "                    terminal,\n",
    "                    next_observation,\n",
    "                    info):\n",
    "    processed_observation = {\n",
    "        'observations': observation,\n",
    "        'actions': action,\n",
    "        'rewards': np.atleast_1d(reward),\n",
    "        'terminals': np.atleast_1d(terminal),\n",
    "        'next_observations': next_observation,\n",
    "        'infos': info,\n",
    "    }\n",
    "\n",
    "    return processed_observation\n",
    "\n",
    "processed_sample = _process_sample(\n",
    "    observation=obs_handle,\n",
    "    action=[0],\n",
    "    reward=reward,\n",
    "    terminal=terminal,\n",
    "    next_observation=obs_next,\n",
    "    info=info,\n",
    ")"
   ],
   "metadata": {
    "collapsed": false,
    "pycharm": {
     "name": "#%%\n"
    }
   }
  },
  {
   "cell_type": "code",
   "execution_count": 48,
   "outputs": [
    {
     "name": "stdout",
     "output_type": "stream",
     "text": [
      "[{'observations': array([0.62514377, 0.02076853], dtype=float32), 'actions': [0], 'rewards': array([935.14124], dtype=float32), 'terminals': array([False]), 'next_observations': array([0.6261801 , 0.01758549], dtype=float32), 'infos': {'disc_lines': array([-1, -1, -1, -1, -1, -1, -1, -1, -1, -1, -1, -1, -1, -1, -1, -1, -1,\n",
      "       -1, -1, -1, -1, -1, -1, -1, -1, -1, -1, -1, -1, -1, -1, -1, -1, -1,\n",
      "       -1, -1, -1, -1, -1, -1, -1, -1, -1, -1, -1, -1, -1, -1, -1, -1, -1,\n",
      "       -1, -1, -1, -1, -1, -1, -1, -1]), 'is_illegal': False, 'is_ambiguous': False, 'is_dispatching_illegal': False, 'is_illegal_reco': False, 'reason_alarm_illegal': None, 'opponent_attack_line': None, 'opponent_attack_sub': None, 'opponent_attack_duration': 0, 'exception': [], 'rewards': {'tmp_score_codalab': 370.40283}}}, {'observations': array([0.62673396, 0.01941825], dtype=float32), 'actions': [0], 'rewards': array([933.26385], dtype=float32), 'terminals': array([False]), 'next_observations': array([0.62328833, 0.01678412], dtype=float32), 'infos': {'disc_lines': array([-1, -1, -1, -1, -1, -1, -1, -1, -1, -1, -1, -1, -1, -1, -1, -1, -1,\n",
      "       -1, -1, -1, -1, -1, -1, -1, -1, -1, -1, -1, -1, -1, -1, -1, -1, -1,\n",
      "       -1, -1, -1, -1, -1, -1, -1, -1, -1, -1, -1, -1, -1, -1, -1, -1, -1,\n",
      "       -1, -1, -1, -1, -1, -1, -1, -1]), 'is_illegal': False, 'is_ambiguous': False, 'is_dispatching_illegal': False, 'is_illegal_reco': False, 'reason_alarm_illegal': None, 'opponent_attack_line': None, 'opponent_attack_sub': None, 'opponent_attack_duration': 0, 'exception': [], 'rewards': {'tmp_score_codalab': 367.2119}}}, {'observations': array([0.623004  , 0.01229346], dtype=float32), 'actions': [0], 'rewards': array([936.9162], dtype=float32), 'terminals': array([False]), 'next_observations': array([0.62348497, 0.01932848], dtype=float32), 'infos': {'disc_lines': array([-1, -1, -1, -1, -1, -1, -1, -1, -1, -1, -1, -1, -1, -1, -1, -1, -1,\n",
      "       -1, -1, -1, -1, -1, -1, -1, -1, -1, -1, -1, -1, -1, -1, -1, -1, -1,\n",
      "       -1, -1, -1, -1, -1, -1, -1, -1, -1, -1, -1, -1, -1, -1, -1, -1, -1,\n",
      "       -1, -1, -1, -1, -1, -1, -1, -1]), 'is_illegal': False, 'is_ambiguous': False, 'is_dispatching_illegal': False, 'is_illegal_reco': False, 'reason_alarm_illegal': None, 'opponent_attack_line': None, 'opponent_attack_sub': None, 'opponent_attack_duration': 0, 'exception': [], 'rewards': {'tmp_score_codalab': 368.3667}}}, {'observations': array([0.62107897, 0.01495934], dtype=float32), 'actions': [0], 'rewards': array([936.8206], dtype=float32), 'terminals': array([False]), 'next_observations': array([0.6189333 , 0.01083042], dtype=float32), 'infos': {'disc_lines': array([-1, -1, -1, -1, -1, -1, -1, -1, -1, -1, -1, -1, -1, -1, -1, -1, -1,\n",
      "       -1, -1, -1, -1, -1, -1, -1, -1, -1, -1, -1, -1, -1, -1, -1, -1, -1,\n",
      "       -1, -1, -1, -1, -1, -1, -1, -1, -1, -1, -1, -1, -1, -1, -1, -1, -1,\n",
      "       -1, -1, -1, -1, -1, -1, -1, -1]), 'is_illegal': False, 'is_ambiguous': False, 'is_dispatching_illegal': False, 'is_illegal_reco': False, 'reason_alarm_illegal': None, 'opponent_attack_line': None, 'opponent_attack_sub': None, 'opponent_attack_duration': 0, 'exception': [], 'rewards': {'tmp_score_codalab': 363.2251}}}]\n"
     ]
    }
   ],
   "source": [
    "_current_path = []\n",
    "for i in range(4):\n",
    "    action = env.action_space({})\n",
    "    env.step(action)\n",
    "    obs = env.get_obs()\n",
    "    obs_handle = np.concatenate(([obs.rho.max()],[obs.rho.min()]))\n",
    "    obs, reward, terminal, info = env.step(action)\n",
    "    obs_next = np.concatenate(([obs.rho.max()],[obs.rho.min()]))\n",
    "    processed_sample = _process_sample(\n",
    "        observation=obs_handle,\n",
    "        action=[0],\n",
    "        reward=reward,\n",
    "        terminal=terminal,\n",
    "        next_observation=obs_next,\n",
    "        info=info,\n",
    "    )\n",
    "    _current_path.append(processed_sample)\n",
    "\n",
    "print(_current_path)\n",
    "\n",
    "\n"
   ],
   "metadata": {
    "collapsed": false,
    "pycharm": {
     "name": "#%%\n"
    }
   }
  },
  {
   "cell_type": "code",
   "execution_count": 49,
   "outputs": [
    {
     "name": "stdout",
     "output_type": "stream",
     "text": [
      "{'observations': array([[0.62514377, 0.02076853],\n",
      "       [0.62673396, 0.01941825],\n",
      "       [0.623004  , 0.01229346],\n",
      "       [0.62107897, 0.01495934]], dtype=float32), 'actions': [array([0, 0, 0, 0])], 'rewards': array([[935.14124],\n",
      "       [933.26385],\n",
      "       [936.9162 ],\n",
      "       [936.8206 ]], dtype=float32), 'terminals': array([[False],\n",
      "       [False],\n",
      "       [False],\n",
      "       [False]]), 'next_observations': array([[0.6261801 , 0.01758549],\n",
      "       [0.62328833, 0.01678412],\n",
      "       [0.62348497, 0.01932848],\n",
      "       [0.6189333 , 0.01083042]], dtype=float32), 'infos': {'disc_lines': array([[-1, -1, -1, -1, -1, -1, -1, -1, -1, -1, -1, -1, -1, -1, -1, -1,\n",
      "        -1, -1, -1, -1, -1, -1, -1, -1, -1, -1, -1, -1, -1, -1, -1, -1,\n",
      "        -1, -1, -1, -1, -1, -1, -1, -1, -1, -1, -1, -1, -1, -1, -1, -1,\n",
      "        -1, -1, -1, -1, -1, -1, -1, -1, -1, -1, -1],\n",
      "       [-1, -1, -1, -1, -1, -1, -1, -1, -1, -1, -1, -1, -1, -1, -1, -1,\n",
      "        -1, -1, -1, -1, -1, -1, -1, -1, -1, -1, -1, -1, -1, -1, -1, -1,\n",
      "        -1, -1, -1, -1, -1, -1, -1, -1, -1, -1, -1, -1, -1, -1, -1, -1,\n",
      "        -1, -1, -1, -1, -1, -1, -1, -1, -1, -1, -1],\n",
      "       [-1, -1, -1, -1, -1, -1, -1, -1, -1, -1, -1, -1, -1, -1, -1, -1,\n",
      "        -1, -1, -1, -1, -1, -1, -1, -1, -1, -1, -1, -1, -1, -1, -1, -1,\n",
      "        -1, -1, -1, -1, -1, -1, -1, -1, -1, -1, -1, -1, -1, -1, -1, -1,\n",
      "        -1, -1, -1, -1, -1, -1, -1, -1, -1, -1, -1],\n",
      "       [-1, -1, -1, -1, -1, -1, -1, -1, -1, -1, -1, -1, -1, -1, -1, -1,\n",
      "        -1, -1, -1, -1, -1, -1, -1, -1, -1, -1, -1, -1, -1, -1, -1, -1,\n",
      "        -1, -1, -1, -1, -1, -1, -1, -1, -1, -1, -1, -1, -1, -1, -1, -1,\n",
      "        -1, -1, -1, -1, -1, -1, -1, -1, -1, -1, -1]]), 'is_illegal': array([False, False, False, False]), 'is_ambiguous': array([False, False, False, False]), 'is_dispatching_illegal': array([False, False, False, False]), 'is_illegal_reco': array([False, False, False, False]), 'reason_alarm_illegal': array([None, None, None, None], dtype=object), 'opponent_attack_line': array([None, None, None, None], dtype=object), 'opponent_attack_sub': array([None, None, None, None], dtype=object), 'opponent_attack_duration': array([0, 0, 0, 0]), 'exception': [], 'rewards': {'tmp_score_codalab': array([370.40283, 367.2119 , 368.3667 , 363.2251 ], dtype=float32)}}}\n"
     ]
    }
   ],
   "source": [
    "import tree\n",
    "# 这里的path指的是数据\n",
    "last_path = tree.map_structure(\n",
    "    lambda *x: np.stack(x, axis=0), *_current_path)\n",
    "print(last_path)"
   ],
   "metadata": {
    "collapsed": false,
    "pycharm": {
     "name": "#%%\n"
    }
   }
  },
  {
   "cell_type": "code",
   "execution_count": 50,
   "outputs": [
    {
     "name": "stdout",
     "output_type": "stream",
     "text": [
      "{'observations': array([[0.62514377, 0.02076853],\n",
      "       [0.62673396, 0.01941825],\n",
      "       [0.623004  , 0.01229346],\n",
      "       [0.62107897, 0.01495934]], dtype=float32), 'actions': [array([0, 0, 0, 0])], 'rewards': array([[935.14124],\n",
      "       [933.26385],\n",
      "       [936.9162 ],\n",
      "       [936.8206 ]], dtype=float32), 'terminals': array([[False],\n",
      "       [False],\n",
      "       [False],\n",
      "       [False]]), 'next_observations': array([[0.6261801 , 0.01758549],\n",
      "       [0.62328833, 0.01678412],\n",
      "       [0.62348497, 0.01932848],\n",
      "       [0.6189333 , 0.01083042]], dtype=float32), 'infos': {'disc_lines': array([[-1, -1, -1, -1, -1, -1, -1, -1, -1, -1, -1, -1, -1, -1, -1, -1,\n",
      "        -1, -1, -1, -1, -1, -1, -1, -1, -1, -1, -1, -1, -1, -1, -1, -1,\n",
      "        -1, -1, -1, -1, -1, -1, -1, -1, -1, -1, -1, -1, -1, -1, -1, -1,\n",
      "        -1, -1, -1, -1, -1, -1, -1, -1, -1, -1, -1],\n",
      "       [-1, -1, -1, -1, -1, -1, -1, -1, -1, -1, -1, -1, -1, -1, -1, -1,\n",
      "        -1, -1, -1, -1, -1, -1, -1, -1, -1, -1, -1, -1, -1, -1, -1, -1,\n",
      "        -1, -1, -1, -1, -1, -1, -1, -1, -1, -1, -1, -1, -1, -1, -1, -1,\n",
      "        -1, -1, -1, -1, -1, -1, -1, -1, -1, -1, -1],\n",
      "       [-1, -1, -1, -1, -1, -1, -1, -1, -1, -1, -1, -1, -1, -1, -1, -1,\n",
      "        -1, -1, -1, -1, -1, -1, -1, -1, -1, -1, -1, -1, -1, -1, -1, -1,\n",
      "        -1, -1, -1, -1, -1, -1, -1, -1, -1, -1, -1, -1, -1, -1, -1, -1,\n",
      "        -1, -1, -1, -1, -1, -1, -1, -1, -1, -1, -1],\n",
      "       [-1, -1, -1, -1, -1, -1, -1, -1, -1, -1, -1, -1, -1, -1, -1, -1,\n",
      "        -1, -1, -1, -1, -1, -1, -1, -1, -1, -1, -1, -1, -1, -1, -1, -1,\n",
      "        -1, -1, -1, -1, -1, -1, -1, -1, -1, -1, -1, -1, -1, -1, -1, -1,\n",
      "        -1, -1, -1, -1, -1, -1, -1, -1, -1, -1, -1]]), 'is_illegal': array([False, False, False, False]), 'is_ambiguous': array([False, False, False, False]), 'is_dispatching_illegal': array([False, False, False, False]), 'is_illegal_reco': array([False, False, False, False]), 'reason_alarm_illegal': array([None, None, None, None], dtype=object), 'opponent_attack_line': array([None, None, None, None], dtype=object), 'opponent_attack_sub': array([None, None, None, None], dtype=object), 'opponent_attack_duration': array([0, 0, 0, 0]), 'exception': [], 'rewards': {'tmp_score_codalab': array([370.40283, 367.2119 , 368.3667 , 363.2251 ], dtype=float32)}}, 'episode_index_forwards': array([[0],\n",
      "       [1],\n",
      "       [2],\n",
      "       [3]], dtype=uint64), 'episode_index_backwards': array([[3],\n",
      "       [2],\n",
      "       [1],\n",
      "       [0]], dtype=uint64)}\n"
     ]
    }
   ],
   "source": [
    "path = last_path.copy()\n",
    "\n",
    "\n",
    "@dataclass\n",
    "class Field:\n",
    "    name: str\n",
    "    dtype: Union[str, np.dtype, tf.DType]\n",
    "    shape: Union[tuple, tf.TensorShape]\n",
    "    initializer: Callable = np.zeros\n",
    "    default_value: Number = 0.0\n",
    "\n",
    "INDEX_FIELDS = {\n",
    "    'episode_index_forwards': Field(\n",
    "        name='episode_index_forwards',\n",
    "        dtype='uint64',\n",
    "        shape=(1, ),\n",
    "        default_value=0,\n",
    "    ),\n",
    "    'episode_index_backwards': Field(\n",
    "        name='episode_index_backwards',\n",
    "        dtype='uint64',\n",
    "        shape=(1, ),\n",
    "        default_value=0,\n",
    "    ),\n",
    "}\n",
    "\n",
    "fields_ = {}\n",
    "def _initialize_field(self, field):\n",
    "    field_shape = (self._max_size, *field.shape)\n",
    "    field_values = field.initializer(\n",
    "        field_shape, dtype=field.dtype)\n",
    "\n",
    "    return field_values\n",
    "def add_samples(samples):\n",
    "    num_samples = tree.flatten(samples)[0].shape[0]\n",
    "\n",
    "    fields = {**fields_, **INDEX_FIELDS}\n",
    "    data = tree.map_structure(_initialize_field, fields)\n",
    "\n",
    "    assert (('episode_index_forwards' in samples.keys())\n",
    "            is ('episode_index_backwards' in samples.keys()))\n",
    "    _pointer = 10\n",
    "    _max_size = 200\n",
    "    index = np.arange(\n",
    "        _pointer, _pointer + num_samples) % _max_size\n",
    "\n",
    "    def add_sample(path, data, new_values, field):\n",
    "        assert new_values.shape[0] == num_samples, (\n",
    "            new_values.shape, num_samples)\n",
    "        data[index] = new_values\n",
    "\n",
    "    tree.map_structure_with_path(\n",
    "        add_sample, self.data, samples, self.fields)\n",
    "\n",
    "    # self._advance(num_samples)\n",
    "\n",
    "def add_path(path):\n",
    "    path = path.copy()\n",
    "    path_length = tree.flatten(path)[0].shape[0]\n",
    "    path.update({\n",
    "        'episode_index_forwards': np.arange(\n",
    "            path_length,\n",
    "            dtype='uint64'\n",
    "        )[..., np.newaxis],\n",
    "        'episode_index_backwards': np.arange(\n",
    "            path_length,\n",
    "            dtype='uint64'\n",
    "        )[::-1, np.newaxis],\n",
    "    })\n",
    "\n",
    "    print(path)\n",
    "    # add_samples(path)\n",
    "\n",
    "\n",
    "\n",
    "add_path(path)\n",
    "\n"
   ],
   "metadata": {
    "collapsed": false,
    "pycharm": {
     "name": "#%%\n"
    }
   }
  },
  {
   "cell_type": "code",
   "execution_count": 51,
   "outputs": [
    {
     "name": "stdout",
     "output_type": "stream",
     "text": [
      "Box(4,)\n",
      "[4.8000002e+00 3.4028235e+38 4.1887903e-01 3.4028235e+38]\n",
      "[-4.8000002e+00 -3.4028235e+38 -4.1887903e-01 -3.4028235e+38]\n",
      "Discrete(2)\n"
     ]
    }
   ],
   "source": [
    "import gym\n",
    "env = gym.make('CartPole-v0')\n",
    "print(env.observation_space)\n",
    "print(env.observation_space.high)\n",
    "print(env.observation_space.low)\n",
    "print(env.action_space)\n",
    "\n",
    "def field_from_gym_space(name, space):\n",
    "    if isinstance(space, spaces.Box):\n",
    "        if isinstance(name, (list, tuple)):\n",
    "            name = '/'.join(name)\n",
    "        print(\"name:{}\".format(name))\n",
    "        return Field(name=name, dtype=space.dtype, shape=space.shape)\n",
    "    elif isinstance(space, spaces.Dict):\n",
    "        return tree.map_structure_with_path(\n",
    "            field_from_gym_space, space.spaces)\n",
    "    else:\n",
    "        raise NotImplementedError(space)"
   ],
   "metadata": {
    "collapsed": false,
    "pycharm": {
     "name": "#%%\n"
    }
   }
  },
  {
   "cell_type": "code",
   "execution_count": 67,
   "outputs": [
    {
     "name": "stdout",
     "output_type": "stream",
     "text": [
      "name:observations\n",
      "int64\n",
      "()\n",
      "float32\n",
      "(2,)\n",
      "int32\n",
      "(1,)\n"
     ]
    }
   ],
   "source": [
    "obs = field_from_gym_space('observations', env.observation_space)\n",
    "print(env.action_space.dtype)\n",
    "print(env.action_space.shape)\n",
    "Field(\n",
    "    name='actions',\n",
    "    dtype=env.action_space.dtype,\n",
    "    shape=env.action_space.shape)\n",
    "\n",
    "print(obs_handle.dtype)\n",
    "print(obs_handle.shape)\n",
    "action_space = np.array([0])\n",
    "print(action_space.dtype)\n",
    "print(action_space.shape)"
   ],
   "metadata": {
    "collapsed": false,
    "pycharm": {
     "name": "#%%\n"
    }
   }
  }
 ],
 "metadata": {
  "kernelspec": {
   "display_name": "Python 3",
   "language": "python",
   "name": "python3"
  },
  "language_info": {
   "codemirror_mode": {
    "name": "ipython",
    "version": 2
   },
   "file_extension": ".py",
   "mimetype": "text/x-python",
   "name": "python",
   "nbconvert_exporter": "python",
   "pygments_lexer": "ipython2",
   "version": "2.7.6"
  }
 },
 "nbformat": 4,
 "nbformat_minor": 0
}